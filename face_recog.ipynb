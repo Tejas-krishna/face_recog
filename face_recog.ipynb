{
  "nbformat": 4,
  "nbformat_minor": 0,
  "metadata": {
    "colab": {
      "name": "face recog.ipynb",
      "provenance": [],
      "toc_visible": true,
      "authorship_tag": "ABX9TyNfUgfzQuirWaBrcyC87aBA",
      "include_colab_link": true
    },
    "kernelspec": {
      "name": "python3",
      "display_name": "Python 3"
    },
    "accelerator": "GPU"
  },
  "cells": [
    {
      "cell_type": "markdown",
      "metadata": {
        "id": "view-in-github",
        "colab_type": "text"
      },
      "source": [
        "<a href=\"https://colab.research.google.com/github/Tejas-krishna/face_recog/blob/intermediate/face_recog.ipynb\" target=\"_parent\"><img src=\"https://colab.research.google.com/assets/colab-badge.svg\" alt=\"Open In Colab\"/></a>"
      ]
    },
    {
      "cell_type": "code",
      "metadata": {
        "id": "4TpYFpNz-zr6",
        "colab_type": "code",
        "outputId": "696884fc-a531-4a47-9b17-a9608ac54e3e",
        "colab": {
          "base_uri": "https://localhost:8080/",
          "height": 149
        }
      },
      "source": [
        "!pip install face_recognition"
      ],
      "execution_count": 47,
      "outputs": [
        {
          "output_type": "stream",
          "text": [
            "Requirement already satisfied: face_recognition in /usr/local/lib/python3.6/dist-packages (1.3.0)\n",
            "Requirement already satisfied: Click>=6.0 in /usr/local/lib/python3.6/dist-packages (from face_recognition) (7.1.2)\n",
            "Requirement already satisfied: face-recognition-models>=0.3.0 in /usr/local/lib/python3.6/dist-packages (from face_recognition) (0.3.0)\n",
            "Requirement already satisfied: numpy in /usr/local/lib/python3.6/dist-packages (from face_recognition) (1.18.5)\n",
            "Requirement already satisfied: dlib>=19.7 in /usr/local/lib/python3.6/dist-packages (from face_recognition) (19.18.0)\n",
            "Requirement already satisfied: Pillow in /usr/local/lib/python3.6/dist-packages (from face_recognition) (7.0.0)\n"
          ],
          "name": "stdout"
        }
      ]
    },
    {
      "cell_type": "code",
      "metadata": {
        "id": "4Q9wwp94Dd2M",
        "colab_type": "code",
        "colab": {
          "base_uri": "https://localhost:8080/",
          "height": 673
        },
        "outputId": "23582df2-eac8-44ce-a7a1-c4df4469eeee"
      },
      "source": [
        "!mkdir known\n",
        "!wget https://upload.wikimedia.org/wikipedia/commons/3/34/Elon_Musk_Royal_Society_%28crop2%29.jpg -O known/elon.jpg\n",
        "!wget https://upload.wikimedia.org/wikipedia/commons/thumb/2/2d/Bill_Gates_2014.jpg/681px-Bill_Gates_2014.jpg -O known/bill.jpg\n",
        "!wget https://upload.wikimedia.org/wikipedia/commons/thumb/e/e9/Official_portrait_of_Barack_Obama.jpg/660px-Official_portrait_of_Barack_Obama.jpg -O known/obama.jpg"
      ],
      "execution_count": 58,
      "outputs": [
        {
          "output_type": "stream",
          "text": [
            "mkdir: cannot create directory ‘known’: File exists\n",
            "--2020-06-15 22:16:55--  https://upload.wikimedia.org/wikipedia/commons/3/34/Elon_Musk_Royal_Society_%28crop2%29.jpg\n",
            "Resolving upload.wikimedia.org (upload.wikimedia.org)... 208.80.154.240, 2001:df2:e500:ed1a::2:b\n",
            "Connecting to upload.wikimedia.org (upload.wikimedia.org)|208.80.154.240|:443... connected.\n",
            "HTTP request sent, awaiting response... 200 OK\n",
            "Length: 130940 (128K) [image/jpeg]\n",
            "Saving to: ‘known/elon.jpg’\n",
            "\n",
            "known/elon.jpg      100%[===================>] 127.87K   199KB/s    in 0.6s    \n",
            "\n",
            "2020-06-15 22:16:57 (199 KB/s) - ‘known/elon.jpg’ saved [130940/130940]\n",
            "\n",
            "--2020-06-15 22:16:59--  https://upload.wikimedia.org/wikipedia/commons/thumb/2/2d/Bill_Gates_2014.jpg/681px-Bill_Gates_2014.jpg\n",
            "Resolving upload.wikimedia.org (upload.wikimedia.org)... 208.80.154.240, 2620:0:861:ed1a::2:b\n",
            "Connecting to upload.wikimedia.org (upload.wikimedia.org)|208.80.154.240|:443... connected.\n",
            "HTTP request sent, awaiting response... 200 OK\n",
            "Length: 112002 (109K) [image/jpeg]\n",
            "Saving to: ‘known/bill.jpg’\n",
            "\n",
            "known/bill.jpg      100%[===================>] 109.38K   177KB/s    in 0.6s    \n",
            "\n",
            "2020-06-15 22:17:01 (177 KB/s) - ‘known/bill.jpg’ saved [112002/112002]\n",
            "\n",
            "--2020-06-15 22:17:04--  https://upload.wikimedia.org/wikipedia/commons/thumb/e/e9/Official_portrait_of_Barack_Obama.jpg/660px-Official_portrait_of_Barack_Obama.jpg\n",
            "Resolving upload.wikimedia.org (upload.wikimedia.org)... 103.102.166.240, 2620:0:861:ed1a::2:b\n",
            "Connecting to upload.wikimedia.org (upload.wikimedia.org)|103.102.166.240|:443... connected.\n",
            "HTTP request sent, awaiting response... 200 OK\n",
            "Length: 70131 (68K) [image/jpeg]\n",
            "Saving to: ‘known/obama.jpg’\n",
            "\n",
            "known/obama.jpg     100%[===================>]  68.49K  --.-KB/s    in 0.002s  \n",
            "\n",
            "2020-06-15 22:17:04 (34.9 MB/s) - ‘known/obama.jpg’ saved [70131/70131]\n",
            "\n"
          ],
          "name": "stdout"
        }
      ]
    },
    {
      "cell_type": "code",
      "metadata": {
        "id": "6BaqCWRiD5aZ",
        "colab_type": "code",
        "colab": {
          "base_uri": "https://localhost:8080/",
          "height": 673
        },
        "outputId": "e6da5710-ed51-4a24-8d7e-665bf25aa182"
      },
      "source": [
        "!mkdir unknown\n",
        "!wget https://upload.wikimedia.org/wikipedia/commons/0/04/Elon_Musk_and_Hans_Koenigsmann_at_the_SpaceX_CRS-8_post-launch_press_conference_%2826223624532%29_%28cropped%29.jpg -O unknown/1.jpg\n",
        "!wget https://cdn.britannica.com/s:300x300/47/188747-050-1D34E743/Bill-Gates-2011.jpg -O unknown/2.jpg\n",
        "!wget https://media.vanityfair.com/photos/5ec1656e5af441fe3976daf4/master/w_2560%2Cc_limit/barack-obama.jpg -O unknown/3.jpg"
      ],
      "execution_count": 59,
      "outputs": [
        {
          "output_type": "stream",
          "text": [
            "mkdir: cannot create directory ‘unknown’: File exists\n",
            "--2020-06-15 22:18:24--  https://upload.wikimedia.org/wikipedia/commons/0/04/Elon_Musk_and_Hans_Koenigsmann_at_the_SpaceX_CRS-8_post-launch_press_conference_%2826223624532%29_%28cropped%29.jpg\n",
            "Resolving upload.wikimedia.org (upload.wikimedia.org)... 208.80.154.240, 2620:0:861:ed1a::2:b\n",
            "Connecting to upload.wikimedia.org (upload.wikimedia.org)|208.80.154.240|:443... connected.\n",
            "HTTP request sent, awaiting response... 200 OK\n",
            "Length: 302944 (296K) [image/jpeg]\n",
            "Saving to: ‘unknown/1.jpg’\n",
            "\n",
            "unknown/1.jpg       100%[===================>] 295.84K   319KB/s    in 0.9s    \n",
            "\n",
            "2020-06-15 22:18:26 (319 KB/s) - ‘unknown/1.jpg’ saved [302944/302944]\n",
            "\n",
            "--2020-06-15 22:18:30--  https://cdn.britannica.com/s:300x300/47/188747-050-1D34E743/Bill-Gates-2011.jpg\n",
            "Resolving cdn.britannica.com (cdn.britannica.com)... 13.35.20.117, 13.35.20.99, 13.35.20.68, ...\n",
            "Connecting to cdn.britannica.com (cdn.britannica.com)|13.35.20.117|:443... connected.\n",
            "HTTP request sent, awaiting response... 200 OK\n",
            "Length: 7225 (7.1K) [image/jpeg]\n",
            "Saving to: ‘unknown/2.jpg’\n",
            "\n",
            "unknown/2.jpg       100%[===================>]   7.06K  --.-KB/s    in 0s      \n",
            "\n",
            "2020-06-15 22:18:30 (1.55 GB/s) - ‘unknown/2.jpg’ saved [7225/7225]\n",
            "\n",
            "--2020-06-15 22:18:33--  https://media.vanityfair.com/photos/5ec1656e5af441fe3976daf4/master/w_2560%2Cc_limit/barack-obama.jpg\n",
            "Resolving media.vanityfair.com (media.vanityfair.com)... 151.101.0.239, 151.101.64.239, 151.101.128.239, ...\n",
            "Connecting to media.vanityfair.com (media.vanityfair.com)|151.101.0.239|:443... connected.\n",
            "HTTP request sent, awaiting response... 200 OK\n",
            "Length: 191507 (187K) [image/jpeg]\n",
            "Saving to: ‘unknown/3.jpg’\n",
            "\n",
            "unknown/3.jpg       100%[===================>] 187.02K  --.-KB/s    in 0.007s  \n",
            "\n",
            "2020-06-15 22:18:33 (25.0 MB/s) - ‘unknown/3.jpg’ saved [191507/191507]\n",
            "\n"
          ],
          "name": "stdout"
        }
      ]
    },
    {
      "cell_type": "code",
      "metadata": {
        "id": "PTNcDMRfKnkB",
        "colab_type": "code",
        "colab": {}
      },
      "source": [
        "import face_recognition\n",
        "import cv2\n",
        "import os\n",
        "from google.colab.patches import cv2_imshow\n",
        "\n",
        "def read_img(path):\n",
        "  img=cv2.imread(path)\n",
        "  (h,w)=img.shape[:2]\n",
        "  width=500\n",
        "  ratio=width / float(w)\n",
        "  height= int(h*ratio)\n",
        "  return cv2.resize(img,(width,height))  "
      ],
      "execution_count": 0,
      "outputs": []
    },
    {
      "cell_type": "code",
      "metadata": {
        "id": "B5nIUl65_X7k",
        "colab_type": "code",
        "colab": {}
      },
      "source": [
        "known_encodings=[]\n",
        "known_names= []\n",
        "known_dir= 'known'"
      ],
      "execution_count": 0,
      "outputs": []
    },
    {
      "cell_type": "code",
      "metadata": {
        "id": "sLvq4qvS_V-b",
        "colab_type": "code",
        "outputId": "d176ee7d-a126-4290-bb39-7f63c8e26e20",
        "colab": {
          "base_uri": "https://localhost:8080/",
          "height": 380
        }
      },
      "source": [
        "for file in os.listdir (known_dir):\n",
        "  img=read_img(known_dir + '/' + file)\n",
        "  img_enc=face_recognition.face_encodings(img)[0]\n",
        "  known_encodings.append(img_enc)\n",
        "  known_names.append(file.split('.')[0])\n",
        "\n",
        "known_encodings  "
      ],
      "execution_count": 62,
      "outputs": [
        {
          "output_type": "error",
          "ename": "AttributeError",
          "evalue": "ignored",
          "traceback": [
            "\u001b[0;31m---------------------------------------------------------------------------\u001b[0m",
            "\u001b[0;31mAttributeError\u001b[0m                            Traceback (most recent call last)",
            "\u001b[0;32m<ipython-input-62-40f5944544f6>\u001b[0m in \u001b[0;36m<module>\u001b[0;34m()\u001b[0m\n\u001b[1;32m      1\u001b[0m \u001b[0;32mfor\u001b[0m \u001b[0mfile\u001b[0m \u001b[0;32min\u001b[0m \u001b[0mos\u001b[0m\u001b[0;34m.\u001b[0m\u001b[0mlistdir\u001b[0m \u001b[0;34m(\u001b[0m\u001b[0mknown_dir\u001b[0m\u001b[0;34m)\u001b[0m\u001b[0;34m:\u001b[0m\u001b[0;34m\u001b[0m\u001b[0;34m\u001b[0m\u001b[0m\n\u001b[0;32m----> 2\u001b[0;31m   \u001b[0mimg\u001b[0m\u001b[0;34m=\u001b[0m\u001b[0mread_img\u001b[0m\u001b[0;34m(\u001b[0m\u001b[0mknown_dir\u001b[0m \u001b[0;34m+\u001b[0m \u001b[0;34m'/'\u001b[0m \u001b[0;34m+\u001b[0m \u001b[0mfile\u001b[0m\u001b[0;34m)\u001b[0m\u001b[0;34m\u001b[0m\u001b[0;34m\u001b[0m\u001b[0m\n\u001b[0m\u001b[1;32m      3\u001b[0m   \u001b[0mimg_enc\u001b[0m\u001b[0;34m=\u001b[0m\u001b[0mface_recognition\u001b[0m\u001b[0;34m.\u001b[0m\u001b[0mface_encodings\u001b[0m\u001b[0;34m(\u001b[0m\u001b[0mimg\u001b[0m\u001b[0;34m)\u001b[0m\u001b[0;34m[\u001b[0m\u001b[0;36m0\u001b[0m\u001b[0;34m]\u001b[0m\u001b[0;34m\u001b[0m\u001b[0;34m\u001b[0m\u001b[0m\n\u001b[1;32m      4\u001b[0m   \u001b[0mknown_encodings\u001b[0m\u001b[0;34m.\u001b[0m\u001b[0mappend\u001b[0m\u001b[0;34m(\u001b[0m\u001b[0mimg_enc\u001b[0m\u001b[0;34m)\u001b[0m\u001b[0;34m\u001b[0m\u001b[0;34m\u001b[0m\u001b[0m\n\u001b[1;32m      5\u001b[0m   \u001b[0mknown_names\u001b[0m\u001b[0;34m.\u001b[0m\u001b[0mappend\u001b[0m\u001b[0;34m(\u001b[0m\u001b[0mfile\u001b[0m\u001b[0;34m.\u001b[0m\u001b[0msplit\u001b[0m\u001b[0;34m(\u001b[0m\u001b[0;34m'.'\u001b[0m\u001b[0;34m)\u001b[0m\u001b[0;34m[\u001b[0m\u001b[0;36m0\u001b[0m\u001b[0;34m]\u001b[0m\u001b[0;34m)\u001b[0m\u001b[0;34m\u001b[0m\u001b[0;34m\u001b[0m\u001b[0m\n",
            "\u001b[0;32m<ipython-input-60-d5d84f2ff200>\u001b[0m in \u001b[0;36mread_img\u001b[0;34m(path)\u001b[0m\n\u001b[1;32m      6\u001b[0m \u001b[0;32mdef\u001b[0m \u001b[0mread_img\u001b[0m\u001b[0;34m(\u001b[0m\u001b[0mpath\u001b[0m\u001b[0;34m)\u001b[0m\u001b[0;34m:\u001b[0m\u001b[0;34m\u001b[0m\u001b[0;34m\u001b[0m\u001b[0m\n\u001b[1;32m      7\u001b[0m   \u001b[0mimg\u001b[0m\u001b[0;34m=\u001b[0m\u001b[0mcv2\u001b[0m\u001b[0;34m.\u001b[0m\u001b[0mimread\u001b[0m\u001b[0;34m(\u001b[0m\u001b[0mpath\u001b[0m\u001b[0;34m)\u001b[0m\u001b[0;34m\u001b[0m\u001b[0;34m\u001b[0m\u001b[0m\n\u001b[0;32m----> 8\u001b[0;31m   \u001b[0;34m(\u001b[0m\u001b[0mh\u001b[0m\u001b[0;34m,\u001b[0m\u001b[0mw\u001b[0m\u001b[0;34m)\u001b[0m\u001b[0;34m=\u001b[0m\u001b[0mimg\u001b[0m\u001b[0;34m.\u001b[0m\u001b[0mshape\u001b[0m\u001b[0;34m[\u001b[0m\u001b[0;34m:\u001b[0m\u001b[0;36m2\u001b[0m\u001b[0;34m]\u001b[0m\u001b[0;34m\u001b[0m\u001b[0;34m\u001b[0m\u001b[0m\n\u001b[0m\u001b[1;32m      9\u001b[0m   \u001b[0mwidth\u001b[0m\u001b[0;34m=\u001b[0m\u001b[0;36m500\u001b[0m\u001b[0;34m\u001b[0m\u001b[0;34m\u001b[0m\u001b[0m\n\u001b[1;32m     10\u001b[0m   \u001b[0mratio\u001b[0m\u001b[0;34m=\u001b[0m\u001b[0mwidth\u001b[0m \u001b[0;34m/\u001b[0m \u001b[0mfloat\u001b[0m\u001b[0;34m(\u001b[0m\u001b[0mw\u001b[0m\u001b[0;34m)\u001b[0m\u001b[0;34m\u001b[0m\u001b[0;34m\u001b[0m\u001b[0m\n",
            "\u001b[0;31mAttributeError\u001b[0m: 'NoneType' object has no attribute 'shape'"
          ]
        }
      ]
    },
    {
      "cell_type": "code",
      "metadata": {
        "id": "J2CJ_E2lDFef",
        "colab_type": "code",
        "colab": {}
      },
      "source": [
        "unknown_dir='unknown'\n",
        "for file in os.listdir (unknown_dir):\n",
        "  print('processing',file)\n",
        "  img=read_img(unknown_dir + '/' + file)\n",
        "  img_enc=face_recognition.face_encodings(img)[0]\n",
        "  results=face_recognition.compare_faces(known_encodings,img_enc)\n",
        "  for i in range(len(results)):\n",
        "    if results[i]:\n",
        "     names=(known_names[i])\n",
        "     (top,right,bottom,left)=face_recognition.face_locations(img)[0]\n",
        "     cv2.rectangle(img,(left,top),(right,bottom),(0,0,255),2)\n",
        "     cv2.putText(img,names,(left+2,bottom+20),cv2.FONT_HERSHEY_COMPLEX,1,(20,20,20),1)\n",
        "     cv2_imshow(img)\n",
        "  print(results)"
      ],
      "execution_count": 0,
      "outputs": []
    },
    {
      "cell_type": "code",
      "metadata": {
        "id": "IXMOgBenoC_J",
        "colab_type": "code",
        "colab": {}
      },
      "source": [
        ""
      ],
      "execution_count": 0,
      "outputs": []
    }
  ]
}