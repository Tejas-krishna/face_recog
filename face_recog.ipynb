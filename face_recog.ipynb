{
  "nbformat": 4,
  "nbformat_minor": 0,
  "metadata": {
    "colab": {
      "name": "face recog.ipynb",
      "provenance": [],
      "toc_visible": true,
      "authorship_tag": "ABX9TyNzU/0KCj/HhZT/qj070uxI",
      "include_colab_link": true
    },
    "kernelspec": {
      "name": "python3",
      "display_name": "Python 3"
    },
    "accelerator": "GPU"
  },
  "cells": [
    {
      "cell_type": "markdown",
      "metadata": {
        "id": "view-in-github",
        "colab_type": "text"
      },
      "source": [
        "<a href=\"https://colab.research.google.com/github/Tejas-krishna/face_recog/blob/test/face_recog.ipynb\" target=\"_parent\"><img src=\"https://colab.research.google.com/assets/colab-badge.svg\" alt=\"Open In Colab\"/></a>"
      ]
    },
    {
      "cell_type": "code",
      "metadata": {
        "id": "4TpYFpNz-zr6",
        "colab_type": "code",
        "colab": {
          "base_uri": "https://localhost:8080/",
          "height": 146
        },
        "outputId": "469152ec-ec98-4f5f-bbab-25f9dce5e71a"
      },
      "source": [
        "!pip install face_recognition"
      ],
      "execution_count": 15,
      "outputs": [
        {
          "output_type": "stream",
          "text": [
            "Requirement already satisfied: face_recognition in /usr/local/lib/python3.6/dist-packages (1.3.0)\n",
            "Requirement already satisfied: Click>=6.0 in /usr/local/lib/python3.6/dist-packages (from face_recognition) (7.1.2)\n",
            "Requirement already satisfied: dlib>=19.7 in /usr/local/lib/python3.6/dist-packages (from face_recognition) (19.18.0)\n",
            "Requirement already satisfied: Pillow in /usr/local/lib/python3.6/dist-packages (from face_recognition) (7.0.0)\n",
            "Requirement already satisfied: face-recognition-models>=0.3.0 in /usr/local/lib/python3.6/dist-packages (from face_recognition) (0.3.0)\n",
            "Requirement already satisfied: numpy in /usr/local/lib/python3.6/dist-packages (from face_recognition) (1.18.5)\n"
          ],
          "name": "stdout"
        }
      ]
    },
    {
      "cell_type": "markdown",
      "metadata": {
        "id": "4HXftmfWZDvB",
        "colab_type": "text"
      },
      "source": [
        "creating a known folder that has 3 images "
      ]
    },
    {
      "cell_type": "code",
      "metadata": {
        "id": "4Q9wwp94Dd2M",
        "colab_type": "code",
        "colab": {
          "base_uri": "https://localhost:8080/",
          "height": 656
        },
        "outputId": "7c5318d5-b095-4fab-914f-c275c0f9157f"
      },
      "source": [
        "!mkdir known\n",
        "!wget https://upload.wikimedia.org/wikipedia/commons/3/34/Elon_Musk_Royal_Society_%28crop2%29.jpg -O known/elon.jpg\n",
        "!wget https://heynineteencom.files.wordpress.com/2017/03/eminem.jpg?w=723 -O known/eminem.jpg\n",
        "!wget https://upload.wikimedia.org/wikipedia/commons/thumb/e/e9/Official_portrait_of_Barack_Obama.jpg/660px-Official_portrait_of_Barack_Obama.jpg -O known/obama.jpg"
      ],
      "execution_count": 16,
      "outputs": [
        {
          "output_type": "stream",
          "text": [
            "mkdir: cannot create directory ‘known’: File exists\n",
            "--2020-06-16 18:37:23--  https://upload.wikimedia.org/wikipedia/commons/3/34/Elon_Musk_Royal_Society_%28crop2%29.jpg\n",
            "Resolving upload.wikimedia.org (upload.wikimedia.org)... 91.198.174.208, 2620:0:862:ed1a::2:b\n",
            "Connecting to upload.wikimedia.org (upload.wikimedia.org)|91.198.174.208|:443... connected.\n",
            "HTTP request sent, awaiting response... 200 OK\n",
            "Length: 130940 (128K) [image/jpeg]\n",
            "Saving to: ‘known/elon.jpg’\n",
            "\n",
            "known/elon.jpg      100%[===================>] 127.87K  --.-KB/s    in 0.01s   \n",
            "\n",
            "2020-06-16 18:37:23 (8.34 MB/s) - ‘known/elon.jpg’ saved [130940/130940]\n",
            "\n",
            "--2020-06-16 18:37:26--  https://heynineteencom.files.wordpress.com/2017/03/eminem.jpg?w=723\n",
            "Resolving heynineteencom.files.wordpress.com (heynineteencom.files.wordpress.com)... 192.0.72.24, 192.0.72.25\n",
            "Connecting to heynineteencom.files.wordpress.com (heynineteencom.files.wordpress.com)|192.0.72.24|:443... connected.\n",
            "HTTP request sent, awaiting response... 200 OK\n",
            "Length: 46820 (46K) [image/jpeg]\n",
            "Saving to: ‘known/eminem.jpg’\n",
            "\n",
            "known/eminem.jpg    100%[===================>]  45.72K  --.-KB/s    in 0.005s  \n",
            "\n",
            "2020-06-16 18:37:26 (9.64 MB/s) - ‘known/eminem.jpg’ saved [46820/46820]\n",
            "\n",
            "--2020-06-16 18:37:29--  https://upload.wikimedia.org/wikipedia/commons/thumb/e/e9/Official_portrait_of_Barack_Obama.jpg/660px-Official_portrait_of_Barack_Obama.jpg\n",
            "Resolving upload.wikimedia.org (upload.wikimedia.org)... 91.198.174.208, 2620:0:862:ed1a::2:b\n",
            "Connecting to upload.wikimedia.org (upload.wikimedia.org)|91.198.174.208|:443... connected.\n",
            "HTTP request sent, awaiting response... 200 OK\n",
            "Length: 70131 (68K) [image/jpeg]\n",
            "Saving to: ‘known/obama.jpg’\n",
            "\n",
            "known/obama.jpg     100%[===================>]  68.49K  --.-KB/s    in 0.01s   \n",
            "\n",
            "2020-06-16 18:37:29 (6.49 MB/s) - ‘known/obama.jpg’ saved [70131/70131]\n",
            "\n"
          ],
          "name": "stdout"
        }
      ]
    },
    {
      "cell_type": "code",
      "metadata": {
        "id": "6BaqCWRiD5aZ",
        "colab_type": "code",
        "colab": {
          "base_uri": "https://localhost:8080/",
          "height": 656
        },
        "outputId": "a77cf8d7-62a8-4df4-b50e-d3c0937a8b96"
      },
      "source": [
        "!mkdir unknown\n",
        "!wget https://upload.wikimedia.org/wikipedia/commons/0/04/Elon_Musk_and_Hans_Koenigsmann_at_the_SpaceX_CRS-8_post-launch_press_conference_%2826223624532%29_%28cropped%29.jpg -O unknown/1.jpg\n",
        "!wget https://consequenceofsound.net/wp-content/uploads/2013/10/eminem.jpg -O unknown/4.jpg\n",
        "!wget https://media.vanityfair.com/photos/5ec1656e5af441fe3976daf4/master/w_2560%2Cc_limit/barack-obama.jpg -O unknown/3.jpg"
      ],
      "execution_count": 17,
      "outputs": [
        {
          "output_type": "stream",
          "text": [
            "mkdir: cannot create directory ‘unknown’: File exists\n",
            "--2020-06-16 18:37:35--  https://upload.wikimedia.org/wikipedia/commons/0/04/Elon_Musk_and_Hans_Koenigsmann_at_the_SpaceX_CRS-8_post-launch_press_conference_%2826223624532%29_%28cropped%29.jpg\n",
            "Resolving upload.wikimedia.org (upload.wikimedia.org)... 91.198.174.208, 2620:0:862:ed1a::2:b\n",
            "Connecting to upload.wikimedia.org (upload.wikimedia.org)|91.198.174.208|:443... connected.\n",
            "HTTP request sent, awaiting response... 200 OK\n",
            "Length: 302944 (296K) [image/jpeg]\n",
            "Saving to: ‘unknown/1.jpg’\n",
            "\n",
            "unknown/1.jpg       100%[===================>] 295.84K  --.-KB/s    in 0.02s   \n",
            "\n",
            "2020-06-16 18:37:35 (13.3 MB/s) - ‘unknown/1.jpg’ saved [302944/302944]\n",
            "\n",
            "--2020-06-16 18:37:38--  https://consequenceofsound.net/wp-content/uploads/2013/10/eminem.jpg\n",
            "Resolving consequenceofsound.net (consequenceofsound.net)... 192.0.66.2\n",
            "Connecting to consequenceofsound.net (consequenceofsound.net)|192.0.66.2|:443... connected.\n",
            "HTTP request sent, awaiting response... 200 OK\n",
            "Length: 28349 (28K) [image/jpeg]\n",
            "Saving to: ‘unknown/4.jpg’\n",
            "\n",
            "unknown/4.jpg       100%[===================>]  27.68K  --.-KB/s    in 0s      \n",
            "\n",
            "2020-06-16 18:37:38 (119 MB/s) - ‘unknown/4.jpg’ saved [28349/28349]\n",
            "\n",
            "--2020-06-16 18:37:41--  https://media.vanityfair.com/photos/5ec1656e5af441fe3976daf4/master/w_2560%2Cc_limit/barack-obama.jpg\n",
            "Resolving media.vanityfair.com (media.vanityfair.com)... 151.101.0.239, 151.101.64.239, 151.101.128.239, ...\n",
            "Connecting to media.vanityfair.com (media.vanityfair.com)|151.101.0.239|:443... connected.\n",
            "HTTP request sent, awaiting response... 200 OK\n",
            "Length: 191507 (187K) [image/jpeg]\n",
            "Saving to: ‘unknown/3.jpg’\n",
            "\n",
            "unknown/3.jpg       100%[===================>] 187.02K  --.-KB/s    in 0.02s   \n",
            "\n",
            "2020-06-16 18:37:41 (9.95 MB/s) - ‘unknown/3.jpg’ saved [191507/191507]\n",
            "\n"
          ],
          "name": "stdout"
        }
      ]
    },
    {
      "cell_type": "code",
      "metadata": {
        "id": "PTNcDMRfKnkB",
        "colab_type": "code",
        "colab": {}
      },
      "source": [
        "import face_recognition\n",
        "import cv2\n",
        "import os\n",
        "from google.colab.patches import cv2_imshow\n",
        "\n",
        "def read_img(path):\n",
        "  img=cv2.imread(path)\n",
        "  (h,w)=img.shape[:2]\n",
        "  width=500\n",
        "  ratio=width / float(w)\n",
        "  height= int(h*ratio)\n",
        "  return cv2.resize(img,(width,height))  "
      ],
      "execution_count": 18,
      "outputs": []
    },
    {
      "cell_type": "code",
      "metadata": {
        "id": "B5nIUl65_X7k",
        "colab_type": "code",
        "colab": {}
      },
      "source": [
        "known_encodings=[]\n",
        "known_names= []\n",
        "known_dir= 'known'"
      ],
      "execution_count": 19,
      "outputs": []
    },
    {
      "cell_type": "code",
      "metadata": {
        "id": "sLvq4qvS_V-b",
        "colab_type": "code",
        "colab": {
          "base_uri": "https://localhost:8080/",
          "height": 1000
        },
        "outputId": "bf391cdf-59b6-4e96-fef7-19d5128cc3d3"
      },
      "source": [
        "for file in os.listdir (known_dir):\n",
        "  img=read_img(known_dir + '/' + file)\n",
        "  img_enc=face_recognition.face_encodings(img)\n",
        "  known_encodings.append(img_enc)\n",
        "  known_names.append(file.split('.')[0])\n",
        "\n",
        "known_encodings  "
      ],
      "execution_count": 26,
      "outputs": [
        {
          "output_type": "execute_result",
          "data": {
            "text/plain": [
              "[[],\n",
              " [array([-9.14762914e-02,  1.09598666e-01,  7.62500465e-02, -1.63997412e-02,\n",
              "         -1.46132447e-02,  2.52020657e-02, -5.61676696e-02, -6.52407706e-02,\n",
              "          1.85232714e-01, -1.42330348e-01,  2.75739253e-01,  6.33889362e-02,\n",
              "         -2.37668276e-01, -1.58232152e-01,  1.11652374e-01,  1.21050715e-01,\n",
              "         -1.96671158e-01, -7.75189772e-02, -1.16590530e-01, -7.35283718e-02,\n",
              "         -1.98483467e-04,  1.57516301e-02,  7.73325562e-02,  4.73456830e-03,\n",
              "         -7.45557398e-02, -4.20692950e-01, -4.45612036e-02, -1.26670539e-01,\n",
              "          2.36128606e-02, -1.99640259e-01, -1.01174057e-01, -3.08929980e-02,\n",
              "         -1.67081878e-01, -7.83623457e-02, -5.00565171e-02, -1.65176727e-02,\n",
              "         -3.69905680e-02, -3.73691171e-02,  1.97920814e-01,  1.97153054e-02,\n",
              "         -1.46945208e-01,  2.62519866e-02, -1.81688368e-03,  1.85900837e-01,\n",
              "          2.45711625e-01,  8.55562910e-02, -7.35060498e-03, -5.52343950e-02,\n",
              "          1.27836809e-01, -2.39103571e-01,  6.50127232e-02,  1.65715635e-01,\n",
              "          9.79403779e-02,  3.08354348e-02,  9.10082832e-02, -2.01407611e-01,\n",
              "         -4.31374349e-02,  5.37924692e-02, -1.29035652e-01,  3.18443999e-02,\n",
              "          4.02668044e-02, -5.93845919e-02, -1.17897764e-02,  5.60727641e-02,\n",
              "          2.08311945e-01,  1.03131883e-01, -9.33257639e-02, -7.44425505e-02,\n",
              "          1.02095068e-01, -8.36735964e-02,  1.70811638e-03,  1.68146305e-02,\n",
              "         -1.71874613e-01, -2.20906049e-01, -2.43102700e-01,  6.03272840e-02,\n",
              "          2.95296252e-01,  1.36694342e-01, -2.01252997e-01, -3.82827222e-02,\n",
              "         -1.60748944e-01,  2.25613639e-03,  8.73003677e-02,  5.41397259e-02,\n",
              "         -5.89590631e-02, -1.00374416e-01, -8.38134140e-02,  2.78660953e-02,\n",
              "          1.17942914e-01,  4.00033444e-02, -4.60313149e-02,  2.04035595e-01,\n",
              "         -5.79003245e-03,  4.59357724e-02,  2.34406441e-02,  1.17581338e-02,\n",
              "         -1.07624672e-01, -3.42446789e-02, -1.46798208e-01, -3.22970748e-02,\n",
              "         -2.41508335e-03, -6.00097105e-02, -2.01203525e-02,  1.17890023e-01,\n",
              "         -1.95197433e-01,  1.06930658e-01,  1.08079631e-02, -2.07995847e-02,\n",
              "          2.78039500e-02,  3.69821265e-02, -7.38086551e-02, -5.45161515e-02,\n",
              "          7.72185847e-02, -2.30354190e-01,  2.35202014e-01,  2.44356304e-01,\n",
              "          2.99954787e-02,  1.77530482e-01,  3.82583886e-02,  7.37469047e-02,\n",
              "         -3.00944522e-02, -5.28106093e-03, -1.63105562e-01, -5.98426163e-02,\n",
              "          2.23521739e-02,  4.95767444e-02,  5.70864789e-02,  9.67528671e-04])],\n",
              " [array([-3.10284048e-02,  8.65360573e-02, -2.66347229e-02,  3.70551199e-02,\n",
              "         -1.51009724e-01,  3.21513414e-03, -5.18733785e-02, -1.08028054e-01,\n",
              "          1.51035756e-01, -6.56598136e-02,  1.68050870e-01, -7.45666251e-02,\n",
              "         -2.63727456e-01, -3.05889845e-02, -7.52096474e-02,  1.13311313e-01,\n",
              "         -1.29804417e-01, -5.72622679e-02, -7.67286196e-02, -1.37728959e-01,\n",
              "          2.78094113e-02,  3.23865227e-02,  4.18925062e-02, -3.90173644e-02,\n",
              "         -1.61695167e-01, -2.38617122e-01, -9.68108773e-02, -1.40039057e-01,\n",
              "          1.37467250e-01, -8.41246471e-02, -3.29999253e-02,  9.71345156e-02,\n",
              "         -1.88142732e-01, -9.59653705e-02,  5.41774482e-02,  1.75129145e-01,\n",
              "         -4.14259322e-02,  3.04439850e-02,  2.39732713e-01, -3.29607576e-02,\n",
              "         -1.75457567e-01,  4.39244546e-02,  1.17131561e-01,  2.43179098e-01,\n",
              "          1.89187706e-01,  7.01977313e-03, -1.43012069e-02,  8.84131715e-03,\n",
              "          8.61664563e-02, -2.08271563e-01,  8.88156593e-02,  1.85663030e-01,\n",
              "          2.13376671e-01,  9.20095816e-02,  9.31533426e-02, -1.67480707e-01,\n",
              "         -4.14547324e-03,  2.00497791e-01, -1.45067677e-01,  6.72624037e-02,\n",
              "          1.46321595e-01, -8.30193907e-02,  1.17399096e-02,  3.51697803e-02,\n",
              "          1.74362585e-01,  4.77202088e-02, -5.93254864e-02, -1.26270339e-01,\n",
              "          2.15872377e-01, -1.71681553e-01,  6.85193017e-03,  1.12332754e-01,\n",
              "         -1.02851182e-01, -1.01138756e-01, -2.94155896e-01,  1.14710629e-02,\n",
              "          4.00695860e-01,  1.22245222e-01, -6.77502304e-02,  3.47420350e-02,\n",
              "         -8.93055499e-02, -7.84131065e-02, -2.36760303e-02, -3.02089788e-02,\n",
              "         -5.74365892e-02, -4.31596972e-02, -1.11274630e-01,  6.34600222e-02,\n",
              "          1.78269684e-01, -6.90512508e-02,  6.36412799e-02,  1.67711347e-01,\n",
              "          4.38767672e-03,  1.00247711e-02, -3.21117491e-02,  2.68341191e-02,\n",
              "         -1.62624776e-01, -8.62863809e-02, -8.38907510e-02, -4.63961139e-02,\n",
              "          4.71495092e-03, -1.95548952e-01,  2.85135247e-02,  1.39079079e-01,\n",
              "         -2.38918766e-01,  1.15213692e-01, -4.37407307e-02, -3.09609994e-02,\n",
              "         -4.39236909e-02,  1.96242705e-02, -3.27353477e-02,  5.35495207e-02,\n",
              "          2.52622217e-01, -2.53566802e-01,  2.21470267e-01,  1.55089945e-01,\n",
              "         -6.08277991e-02,  8.13150853e-02,  7.33130425e-02,  6.13923371e-02,\n",
              "         -6.44131377e-03, -7.05892295e-02, -2.00152993e-01, -1.51131645e-01,\n",
              "         -7.71577656e-02, -9.51645374e-02,  3.47070396e-04,  9.07024443e-02])],\n",
              " [array([-5.26838899e-02,  1.12691753e-01,  5.84454015e-02,  2.15288997e-03,\n",
              "         -1.44471988e-01,  1.41127557e-02, -2.06316337e-02, -1.96087301e-01,\n",
              "          1.61889166e-01, -6.33114651e-02,  2.57895231e-01, -1.04259834e-01,\n",
              "         -2.38341033e-01,  7.72298872e-03, -1.26153827e-02,  9.39760059e-02,\n",
              "         -1.24993972e-01, -1.12270705e-01, -9.67789814e-03, -1.12428099e-01,\n",
              "          1.22411303e-01,  7.63972104e-02,  2.84544155e-02,  1.17821395e-02,\n",
              "         -1.04169995e-01, -2.77031153e-01, -9.72692668e-02, -1.02087259e-01,\n",
              "          1.37427270e-01, -7.38944858e-02,  1.58685595e-02,  4.84132767e-02,\n",
              "         -1.77373394e-01, -8.40044767e-02,  4.46876287e-02,  4.93088178e-02,\n",
              "         -7.48563930e-02, -7.45876208e-02,  1.99607193e-01, -6.38754368e-02,\n",
              "         -1.73491105e-01, -4.70559821e-02,  3.05280127e-02,  2.13392332e-01,\n",
              "          1.00502081e-01,  3.27573940e-02,  1.68488361e-02, -9.90123153e-02,\n",
              "          5.26690707e-02, -2.21497238e-01,  8.51515234e-02,  1.56997398e-01,\n",
              "          5.95720038e-02,  1.91556141e-02,  1.07312575e-01, -1.77963972e-01,\n",
              "         -4.85145710e-02,  2.05216438e-01, -1.28650263e-01,  1.00758895e-01,\n",
              "          8.63371044e-02, -6.14517815e-02, -1.76933408e-03, -7.19768330e-02,\n",
              "          1.72531486e-01,  6.57616854e-02, -2.64498331e-02, -1.54343620e-01,\n",
              "          1.64719820e-01, -8.82544965e-02, -1.23632677e-01,  1.51810393e-01,\n",
              "         -1.22541517e-01, -1.62471607e-01, -2.68716574e-01, -2.63811722e-02,\n",
              "          5.10005772e-01,  3.36359441e-02, -1.73071921e-01,  2.27132961e-02,\n",
              "         -4.60432321e-02, -2.55346298e-04,  1.44558251e-01,  2.33728718e-02,\n",
              "          2.13626772e-02, -6.77854791e-02, -1.46495685e-01, -1.24918856e-02,\n",
              "          2.05611616e-01, -9.06525627e-02, -5.54557368e-02,  2.08001420e-01,\n",
              "         -2.99426019e-02,  2.79891640e-02,  3.08904499e-02,  8.09066892e-02,\n",
              "         -7.51386583e-02, -1.14353597e-02, -1.18257955e-01, -1.22576527e-01,\n",
              "          4.91081178e-02, -2.42460594e-02, -5.06301820e-02,  1.69310644e-01,\n",
              "         -2.20040724e-01,  1.27436608e-01,  1.25181973e-02, -7.17603415e-03,\n",
              "          9.22560692e-04, -5.19366451e-02, -3.60364020e-02,  1.85076296e-02,\n",
              "          2.00780958e-01, -3.01004827e-01,  1.45458847e-01,  1.55155987e-01,\n",
              "         -4.80412990e-02,  1.44629821e-01, -1.33629888e-02,  3.67095768e-02,\n",
              "          1.98998451e-02, -8.40187445e-02, -2.48334154e-01, -9.51224566e-02,\n",
              "          2.28015482e-02, -8.14633071e-03, -7.28990585e-02,  3.07140648e-02])],\n",
              " [],\n",
              " [array([-9.14762914e-02,  1.09598666e-01,  7.62500465e-02, -1.63997412e-02,\n",
              "         -1.46132447e-02,  2.52020657e-02, -5.61676696e-02, -6.52407706e-02,\n",
              "          1.85232714e-01, -1.42330348e-01,  2.75739253e-01,  6.33889362e-02,\n",
              "         -2.37668276e-01, -1.58232152e-01,  1.11652374e-01,  1.21050715e-01,\n",
              "         -1.96671158e-01, -7.75189772e-02, -1.16590530e-01, -7.35283718e-02,\n",
              "         -1.98483467e-04,  1.57516301e-02,  7.73325562e-02,  4.73456830e-03,\n",
              "         -7.45557398e-02, -4.20692950e-01, -4.45612036e-02, -1.26670539e-01,\n",
              "          2.36128606e-02, -1.99640259e-01, -1.01174057e-01, -3.08929980e-02,\n",
              "         -1.67081878e-01, -7.83623457e-02, -5.00565171e-02, -1.65176727e-02,\n",
              "         -3.69905680e-02, -3.73691171e-02,  1.97920814e-01,  1.97153054e-02,\n",
              "         -1.46945208e-01,  2.62519866e-02, -1.81688368e-03,  1.85900837e-01,\n",
              "          2.45711625e-01,  8.55562910e-02, -7.35060498e-03, -5.52343950e-02,\n",
              "          1.27836809e-01, -2.39103571e-01,  6.50127232e-02,  1.65715635e-01,\n",
              "          9.79403779e-02,  3.08354348e-02,  9.10082832e-02, -2.01407611e-01,\n",
              "         -4.31374349e-02,  5.37924692e-02, -1.29035652e-01,  3.18443999e-02,\n",
              "          4.02668044e-02, -5.93845919e-02, -1.17897764e-02,  5.60727641e-02,\n",
              "          2.08311945e-01,  1.03131883e-01, -9.33257639e-02, -7.44425505e-02,\n",
              "          1.02095068e-01, -8.36735964e-02,  1.70811638e-03,  1.68146305e-02,\n",
              "         -1.71874613e-01, -2.20906049e-01, -2.43102700e-01,  6.03272840e-02,\n",
              "          2.95296252e-01,  1.36694342e-01, -2.01252997e-01, -3.82827222e-02,\n",
              "         -1.60748944e-01,  2.25613639e-03,  8.73003677e-02,  5.41397259e-02,\n",
              "         -5.89590631e-02, -1.00374416e-01, -8.38134140e-02,  2.78660953e-02,\n",
              "          1.17942914e-01,  4.00033444e-02, -4.60313149e-02,  2.04035595e-01,\n",
              "         -5.79003245e-03,  4.59357724e-02,  2.34406441e-02,  1.17581338e-02,\n",
              "         -1.07624672e-01, -3.42446789e-02, -1.46798208e-01, -3.22970748e-02,\n",
              "         -2.41508335e-03, -6.00097105e-02, -2.01203525e-02,  1.17890023e-01,\n",
              "         -1.95197433e-01,  1.06930658e-01,  1.08079631e-02, -2.07995847e-02,\n",
              "          2.78039500e-02,  3.69821265e-02, -7.38086551e-02, -5.45161515e-02,\n",
              "          7.72185847e-02, -2.30354190e-01,  2.35202014e-01,  2.44356304e-01,\n",
              "          2.99954787e-02,  1.77530482e-01,  3.82583886e-02,  7.37469047e-02,\n",
              "         -3.00944522e-02, -5.28106093e-03, -1.63105562e-01, -5.98426163e-02,\n",
              "          2.23521739e-02,  4.95767444e-02,  5.70864789e-02,  9.67528671e-04])],\n",
              " [array([-3.10284048e-02,  8.65360573e-02, -2.66347229e-02,  3.70551199e-02,\n",
              "         -1.51009724e-01,  3.21513414e-03, -5.18733785e-02, -1.08028054e-01,\n",
              "          1.51035756e-01, -6.56598136e-02,  1.68050870e-01, -7.45666251e-02,\n",
              "         -2.63727456e-01, -3.05889845e-02, -7.52096474e-02,  1.13311313e-01,\n",
              "         -1.29804417e-01, -5.72622679e-02, -7.67286196e-02, -1.37728959e-01,\n",
              "          2.78094113e-02,  3.23865227e-02,  4.18925062e-02, -3.90173644e-02,\n",
              "         -1.61695167e-01, -2.38617122e-01, -9.68108773e-02, -1.40039057e-01,\n",
              "          1.37467250e-01, -8.41246471e-02, -3.29999253e-02,  9.71345156e-02,\n",
              "         -1.88142732e-01, -9.59653705e-02,  5.41774482e-02,  1.75129145e-01,\n",
              "         -4.14259322e-02,  3.04439850e-02,  2.39732713e-01, -3.29607576e-02,\n",
              "         -1.75457567e-01,  4.39244546e-02,  1.17131561e-01,  2.43179098e-01,\n",
              "          1.89187706e-01,  7.01977313e-03, -1.43012069e-02,  8.84131715e-03,\n",
              "          8.61664563e-02, -2.08271563e-01,  8.88156593e-02,  1.85663030e-01,\n",
              "          2.13376671e-01,  9.20095816e-02,  9.31533426e-02, -1.67480707e-01,\n",
              "         -4.14547324e-03,  2.00497791e-01, -1.45067677e-01,  6.72624037e-02,\n",
              "          1.46321595e-01, -8.30193907e-02,  1.17399096e-02,  3.51697803e-02,\n",
              "          1.74362585e-01,  4.77202088e-02, -5.93254864e-02, -1.26270339e-01,\n",
              "          2.15872377e-01, -1.71681553e-01,  6.85193017e-03,  1.12332754e-01,\n",
              "         -1.02851182e-01, -1.01138756e-01, -2.94155896e-01,  1.14710629e-02,\n",
              "          4.00695860e-01,  1.22245222e-01, -6.77502304e-02,  3.47420350e-02,\n",
              "         -8.93055499e-02, -7.84131065e-02, -2.36760303e-02, -3.02089788e-02,\n",
              "         -5.74365892e-02, -4.31596972e-02, -1.11274630e-01,  6.34600222e-02,\n",
              "          1.78269684e-01, -6.90512508e-02,  6.36412799e-02,  1.67711347e-01,\n",
              "          4.38767672e-03,  1.00247711e-02, -3.21117491e-02,  2.68341191e-02,\n",
              "         -1.62624776e-01, -8.62863809e-02, -8.38907510e-02, -4.63961139e-02,\n",
              "          4.71495092e-03, -1.95548952e-01,  2.85135247e-02,  1.39079079e-01,\n",
              "         -2.38918766e-01,  1.15213692e-01, -4.37407307e-02, -3.09609994e-02,\n",
              "         -4.39236909e-02,  1.96242705e-02, -3.27353477e-02,  5.35495207e-02,\n",
              "          2.52622217e-01, -2.53566802e-01,  2.21470267e-01,  1.55089945e-01,\n",
              "         -6.08277991e-02,  8.13150853e-02,  7.33130425e-02,  6.13923371e-02,\n",
              "         -6.44131377e-03, -7.05892295e-02, -2.00152993e-01, -1.51131645e-01,\n",
              "         -7.71577656e-02, -9.51645374e-02,  3.47070396e-04,  9.07024443e-02])],\n",
              " [array([-5.26838899e-02,  1.12691753e-01,  5.84454015e-02,  2.15288997e-03,\n",
              "         -1.44471988e-01,  1.41127557e-02, -2.06316337e-02, -1.96087301e-01,\n",
              "          1.61889166e-01, -6.33114651e-02,  2.57895231e-01, -1.04259834e-01,\n",
              "         -2.38341033e-01,  7.72298872e-03, -1.26153827e-02,  9.39760059e-02,\n",
              "         -1.24993972e-01, -1.12270705e-01, -9.67789814e-03, -1.12428099e-01,\n",
              "          1.22411303e-01,  7.63972104e-02,  2.84544155e-02,  1.17821395e-02,\n",
              "         -1.04169995e-01, -2.77031153e-01, -9.72692668e-02, -1.02087259e-01,\n",
              "          1.37427270e-01, -7.38944858e-02,  1.58685595e-02,  4.84132767e-02,\n",
              "         -1.77373394e-01, -8.40044767e-02,  4.46876287e-02,  4.93088178e-02,\n",
              "         -7.48563930e-02, -7.45876208e-02,  1.99607193e-01, -6.38754368e-02,\n",
              "         -1.73491105e-01, -4.70559821e-02,  3.05280127e-02,  2.13392332e-01,\n",
              "          1.00502081e-01,  3.27573940e-02,  1.68488361e-02, -9.90123153e-02,\n",
              "          5.26690707e-02, -2.21497238e-01,  8.51515234e-02,  1.56997398e-01,\n",
              "          5.95720038e-02,  1.91556141e-02,  1.07312575e-01, -1.77963972e-01,\n",
              "         -4.85145710e-02,  2.05216438e-01, -1.28650263e-01,  1.00758895e-01,\n",
              "          8.63371044e-02, -6.14517815e-02, -1.76933408e-03, -7.19768330e-02,\n",
              "          1.72531486e-01,  6.57616854e-02, -2.64498331e-02, -1.54343620e-01,\n",
              "          1.64719820e-01, -8.82544965e-02, -1.23632677e-01,  1.51810393e-01,\n",
              "         -1.22541517e-01, -1.62471607e-01, -2.68716574e-01, -2.63811722e-02,\n",
              "          5.10005772e-01,  3.36359441e-02, -1.73071921e-01,  2.27132961e-02,\n",
              "         -4.60432321e-02, -2.55346298e-04,  1.44558251e-01,  2.33728718e-02,\n",
              "          2.13626772e-02, -6.77854791e-02, -1.46495685e-01, -1.24918856e-02,\n",
              "          2.05611616e-01, -9.06525627e-02, -5.54557368e-02,  2.08001420e-01,\n",
              "         -2.99426019e-02,  2.79891640e-02,  3.08904499e-02,  8.09066892e-02,\n",
              "         -7.51386583e-02, -1.14353597e-02, -1.18257955e-01, -1.22576527e-01,\n",
              "          4.91081178e-02, -2.42460594e-02, -5.06301820e-02,  1.69310644e-01,\n",
              "         -2.20040724e-01,  1.27436608e-01,  1.25181973e-02, -7.17603415e-03,\n",
              "          9.22560692e-04, -5.19366451e-02, -3.60364020e-02,  1.85076296e-02,\n",
              "          2.00780958e-01, -3.01004827e-01,  1.45458847e-01,  1.55155987e-01,\n",
              "         -4.80412990e-02,  1.44629821e-01, -1.33629888e-02,  3.67095768e-02,\n",
              "          1.98998451e-02, -8.40187445e-02, -2.48334154e-01, -9.51224566e-02,\n",
              "          2.28015482e-02, -8.14633071e-03, -7.28990585e-02,  3.07140648e-02])]]"
            ]
          },
          "metadata": {
            "tags": []
          },
          "execution_count": 26
        }
      ]
    },
    {
      "cell_type": "code",
      "metadata": {
        "id": "J2CJ_E2lDFef",
        "colab_type": "code",
        "colab": {
          "base_uri": "https://localhost:8080/",
          "height": 414
        },
        "outputId": "d2752e77-250f-4993-b7ed-56b945b5f0fe"
      },
      "source": [
        "unknown_dir='unknown'\n",
        "for file in os.listdir (unknown_dir):\n",
        "  print('processing',file)\n",
        "  img=read_img(unknown_dir + '/' + file)\n",
        "  img_enc=face_recognition.face_encodings(img)\n",
        "  results=face_recognition.compare_faces(known_encodings,img_enc)\n",
        "  for i in range(len(results)):\n",
        "    if results[i]:\n",
        "     names=(known_names[i])\n",
        "     (top,right,bottom,left)=face_recognition.face_locations(img)[0]\n",
        "     cv2.rectangle(img,(left,top),(right,bottom),(0,0,255),2)\n",
        "     cv2.putText(img,names,(left+2,bottom+20),cv2.FONT_HERSHEY_COMPLEX,1,(20,20,20),1)\n",
        "     cv2_imshow(img)\n",
        "  print(results)"
      ],
      "execution_count": 27,
      "outputs": [
        {
          "output_type": "stream",
          "text": [
            "processing 1.jpg\n"
          ],
          "name": "stdout"
        },
        {
          "output_type": "error",
          "ename": "TypeError",
          "evalue": "ignored",
          "traceback": [
            "\u001b[0;31m---------------------------------------------------------------------------\u001b[0m",
            "\u001b[0;31mTypeError\u001b[0m                                 Traceback (most recent call last)",
            "\u001b[0;32m<ipython-input-27-35252420d331>\u001b[0m in \u001b[0;36m<module>\u001b[0;34m()\u001b[0m\n\u001b[1;32m      4\u001b[0m   \u001b[0mimg\u001b[0m\u001b[0;34m=\u001b[0m\u001b[0mread_img\u001b[0m\u001b[0;34m(\u001b[0m\u001b[0munknown_dir\u001b[0m \u001b[0;34m+\u001b[0m \u001b[0;34m'/'\u001b[0m \u001b[0;34m+\u001b[0m \u001b[0mfile\u001b[0m\u001b[0;34m)\u001b[0m\u001b[0;34m\u001b[0m\u001b[0;34m\u001b[0m\u001b[0m\n\u001b[1;32m      5\u001b[0m   \u001b[0mimg_enc\u001b[0m\u001b[0;34m=\u001b[0m\u001b[0mface_recognition\u001b[0m\u001b[0;34m.\u001b[0m\u001b[0mface_encodings\u001b[0m\u001b[0;34m(\u001b[0m\u001b[0mimg\u001b[0m\u001b[0;34m)\u001b[0m\u001b[0;34m\u001b[0m\u001b[0;34m\u001b[0m\u001b[0m\n\u001b[0;32m----> 6\u001b[0;31m   \u001b[0mresults\u001b[0m\u001b[0;34m=\u001b[0m\u001b[0mface_recognition\u001b[0m\u001b[0;34m.\u001b[0m\u001b[0mcompare_faces\u001b[0m\u001b[0;34m(\u001b[0m\u001b[0mknown_encodings\u001b[0m\u001b[0;34m,\u001b[0m\u001b[0mimg_enc\u001b[0m\u001b[0;34m)\u001b[0m\u001b[0;34m\u001b[0m\u001b[0;34m\u001b[0m\u001b[0m\n\u001b[0m\u001b[1;32m      7\u001b[0m   \u001b[0;32mfor\u001b[0m \u001b[0mi\u001b[0m \u001b[0;32min\u001b[0m \u001b[0mrange\u001b[0m\u001b[0;34m(\u001b[0m\u001b[0mlen\u001b[0m\u001b[0;34m(\u001b[0m\u001b[0mresults\u001b[0m\u001b[0;34m)\u001b[0m\u001b[0;34m)\u001b[0m\u001b[0;34m:\u001b[0m\u001b[0;34m\u001b[0m\u001b[0;34m\u001b[0m\u001b[0m\n\u001b[1;32m      8\u001b[0m     \u001b[0;32mif\u001b[0m \u001b[0mresults\u001b[0m\u001b[0;34m[\u001b[0m\u001b[0mi\u001b[0m\u001b[0;34m]\u001b[0m\u001b[0;34m:\u001b[0m\u001b[0;34m\u001b[0m\u001b[0;34m\u001b[0m\u001b[0m\n",
            "\u001b[0;32m/usr/local/lib/python3.6/dist-packages/face_recognition/api.py\u001b[0m in \u001b[0;36mcompare_faces\u001b[0;34m(known_face_encodings, face_encoding_to_check, tolerance)\u001b[0m\n\u001b[1;32m    224\u001b[0m     \u001b[0;34m:\u001b[0m\u001b[0;32mreturn\u001b[0m\u001b[0;34m:\u001b[0m \u001b[0mA\u001b[0m \u001b[0mlist\u001b[0m \u001b[0mof\u001b[0m \u001b[0;32mTrue\u001b[0m\u001b[0;34m/\u001b[0m\u001b[0;32mFalse\u001b[0m \u001b[0mvalues\u001b[0m \u001b[0mindicating\u001b[0m \u001b[0mwhich\u001b[0m \u001b[0mknown_face_encodings\u001b[0m \u001b[0mmatch\u001b[0m \u001b[0mthe\u001b[0m \u001b[0mface\u001b[0m \u001b[0mencoding\u001b[0m \u001b[0mto\u001b[0m \u001b[0mcheck\u001b[0m\u001b[0;34m\u001b[0m\u001b[0;34m\u001b[0m\u001b[0m\n\u001b[1;32m    225\u001b[0m     \"\"\"\n\u001b[0;32m--> 226\u001b[0;31m     \u001b[0;32mreturn\u001b[0m \u001b[0mlist\u001b[0m\u001b[0;34m(\u001b[0m\u001b[0mface_distance\u001b[0m\u001b[0;34m(\u001b[0m\u001b[0mknown_face_encodings\u001b[0m\u001b[0;34m,\u001b[0m \u001b[0mface_encoding_to_check\u001b[0m\u001b[0;34m)\u001b[0m \u001b[0;34m<=\u001b[0m \u001b[0mtolerance\u001b[0m\u001b[0;34m)\u001b[0m\u001b[0;34m\u001b[0m\u001b[0;34m\u001b[0m\u001b[0m\n\u001b[0m",
            "\u001b[0;32m/usr/local/lib/python3.6/dist-packages/face_recognition/api.py\u001b[0m in \u001b[0;36mface_distance\u001b[0;34m(face_encodings, face_to_compare)\u001b[0m\n\u001b[1;32m     73\u001b[0m         \u001b[0;32mreturn\u001b[0m \u001b[0mnp\u001b[0m\u001b[0;34m.\u001b[0m\u001b[0mempty\u001b[0m\u001b[0;34m(\u001b[0m\u001b[0;34m(\u001b[0m\u001b[0;36m0\u001b[0m\u001b[0;34m)\u001b[0m\u001b[0;34m)\u001b[0m\u001b[0;34m\u001b[0m\u001b[0;34m\u001b[0m\u001b[0m\n\u001b[1;32m     74\u001b[0m \u001b[0;34m\u001b[0m\u001b[0m\n\u001b[0;32m---> 75\u001b[0;31m     \u001b[0;32mreturn\u001b[0m \u001b[0mnp\u001b[0m\u001b[0;34m.\u001b[0m\u001b[0mlinalg\u001b[0m\u001b[0;34m.\u001b[0m\u001b[0mnorm\u001b[0m\u001b[0;34m(\u001b[0m\u001b[0mface_encodings\u001b[0m \u001b[0;34m-\u001b[0m \u001b[0mface_to_compare\u001b[0m\u001b[0;34m,\u001b[0m \u001b[0maxis\u001b[0m\u001b[0;34m=\u001b[0m\u001b[0;36m1\u001b[0m\u001b[0;34m)\u001b[0m\u001b[0;34m\u001b[0m\u001b[0;34m\u001b[0m\u001b[0m\n\u001b[0m\u001b[1;32m     76\u001b[0m \u001b[0;34m\u001b[0m\u001b[0m\n\u001b[1;32m     77\u001b[0m \u001b[0;34m\u001b[0m\u001b[0m\n",
            "\u001b[0;31mTypeError\u001b[0m: unsupported operand type(s) for -: 'list' and 'list'"
          ]
        }
      ]
    },
    {
      "cell_type": "code",
      "metadata": {
        "id": "IXMOgBenoC_J",
        "colab_type": "code",
        "colab": {}
      },
      "source": [
        ""
      ],
      "execution_count": null,
      "outputs": []
    }
  ]
}