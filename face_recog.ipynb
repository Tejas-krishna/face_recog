{
  "nbformat": 4,
  "nbformat_minor": 0,
  "metadata": {
    "colab": {
      "name": "face recog.ipynb",
      "provenance": [],
      "toc_visible": true,
      "authorship_tag": "ABX9TyO8bwglH78tFAUIYt1S1oQ/",
      "include_colab_link": true
    },
    "kernelspec": {
      "name": "python3",
      "display_name": "Python 3"
    },
    "accelerator": "GPU"
  },
  "cells": [
    {
      "cell_type": "markdown",
      "metadata": {
        "id": "view-in-github",
        "colab_type": "text"
      },
      "source": [
        "<a href=\"https://colab.research.google.com/github/Tejas-krishna/face_recog/blob/initial_exp/face_recog.ipynb\" target=\"_parent\"><img src=\"https://colab.research.google.com/assets/colab-badge.svg\" alt=\"Open In Colab\"/></a>"
      ]
    },
    {
      "cell_type": "code",
      "metadata": {
        "id": "4TpYFpNz-zr6",
        "colab_type": "code",
        "outputId": "f1107284-80a4-47d1-b84f-878fdc191e3d",
        "colab": {
          "base_uri": "https://localhost:8080/",
          "height": 328
        }
      },
      "source": [
        "!pip install face_recognition"
      ],
      "execution_count": 1,
      "outputs": [
        {
          "output_type": "stream",
          "text": [
            "Collecting face_recognition\n",
            "  Downloading https://files.pythonhosted.org/packages/1e/95/f6c9330f54ab07bfa032bf3715c12455a381083125d8880c43cbe76bb3d0/face_recognition-1.3.0-py2.py3-none-any.whl\n",
            "Requirement already satisfied: numpy in /usr/local/lib/python3.6/dist-packages (from face_recognition) (1.18.5)\n",
            "Requirement already satisfied: dlib>=19.7 in /usr/local/lib/python3.6/dist-packages (from face_recognition) (19.18.0)\n",
            "Requirement already satisfied: Click>=6.0 in /usr/local/lib/python3.6/dist-packages (from face_recognition) (7.1.2)\n",
            "Requirement already satisfied: Pillow in /usr/local/lib/python3.6/dist-packages (from face_recognition) (7.0.0)\n",
            "Collecting face-recognition-models>=0.3.0\n",
            "\u001b[?25l  Downloading https://files.pythonhosted.org/packages/cf/3b/4fd8c534f6c0d1b80ce0973d01331525538045084c73c153ee6df20224cf/face_recognition_models-0.3.0.tar.gz (100.1MB)\n",
            "\u001b[K     |████████████████████████████████| 100.2MB 42kB/s \n",
            "\u001b[?25hBuilding wheels for collected packages: face-recognition-models\n",
            "  Building wheel for face-recognition-models (setup.py) ... \u001b[?25l\u001b[?25hdone\n",
            "  Created wheel for face-recognition-models: filename=face_recognition_models-0.3.0-py2.py3-none-any.whl size=100566172 sha256=52db3c50ac8dee2d3f964104e8ce8a719646d59b17ae8486bff92319f78d7c57\n",
            "  Stored in directory: /root/.cache/pip/wheels/d2/99/18/59c6c8f01e39810415c0e63f5bede7d83dfb0ffc039865465f\n",
            "Successfully built face-recognition-models\n",
            "Installing collected packages: face-recognition-models, face-recognition\n",
            "Successfully installed face-recognition-1.3.0 face-recognition-models-0.3.0\n"
          ],
          "name": "stdout"
        }
      ]
    },
    {
      "cell_type": "code",
      "metadata": {
        "id": "DaiqJ_mbBrNl",
        "colab_type": "code",
        "outputId": "cfbcb716-b461-4e96-cf58-8d8adbd69f81",
        "colab": {
          "base_uri": "https://localhost:8080/",
          "height": 637
        }
      },
      "source": [
        "!mkdir known\n",
        "!wget https://upload.wikimedia.org/wikipedia/commons/3/34/Elon_Musk_Royal_Society_%28crop2%29.jpg -O known/elon.jpg\n",
        "!wget https://upload.wikimedia.org/wikipedia/commons/thumb/2/2d/Bill_Gates_2014.jpg/681px-Bill_Gates_2014.jpg -O known/bill.jpg\n",
        "!wget https://upload.wikimedia.org/wikipedia/commons/thumb/e/e9/Official_portrait_of_Barack_Obama.jpg/660px-Official_portrait_of_Barack_Obama.jpg -O known/obama.jpg"
      ],
      "execution_count": 2,
      "outputs": [
        {
          "output_type": "stream",
          "text": [
            "--2020-06-15 21:10:09--  https://upload.wikimedia.org/wikipedia/commons/3/34/Elon_Musk_Royal_Society_%28crop2%29.jpg\n",
            "Resolving upload.wikimedia.org (upload.wikimedia.org)... 103.102.166.240, 2001:df2:e500:ed1a::2:b\n",
            "Connecting to upload.wikimedia.org (upload.wikimedia.org)|103.102.166.240|:443... connected.\n",
            "HTTP request sent, awaiting response... 200 OK\n",
            "Length: 130940 (128K) [image/jpeg]\n",
            "Saving to: ‘known/elon.jpg’\n",
            "\n",
            "\rknown/elon.jpg        0%[                    ]       0  --.-KB/s               \rknown/elon.jpg      100%[===================>] 127.87K  --.-KB/s    in 0.004s  \n",
            "\n",
            "2020-06-15 21:10:10 (30.1 MB/s) - ‘known/elon.jpg’ saved [130940/130940]\n",
            "\n",
            "--2020-06-15 21:10:13--  https://upload.wikimedia.org/wikipedia/commons/thumb/2/2d/Bill_Gates_2014.jpg/681px-Bill_Gates_2014.jpg\n",
            "Resolving upload.wikimedia.org (upload.wikimedia.org)... 103.102.166.240, 2620:0:861:ed1a::2:b\n",
            "Connecting to upload.wikimedia.org (upload.wikimedia.org)|103.102.166.240|:443... connected.\n",
            "HTTP request sent, awaiting response... 200 OK\n",
            "Length: 112002 (109K) [image/jpeg]\n",
            "Saving to: ‘known/bill.jpg’\n",
            "\n",
            "known/bill.jpg      100%[===================>] 109.38K  --.-KB/s    in 0.003s  \n",
            "\n",
            "2020-06-15 21:10:14 (41.4 MB/s) - ‘known/bill.jpg’ saved [112002/112002]\n",
            "\n",
            "--2020-06-15 21:10:17--  https://upload.wikimedia.org/wikipedia/commons/thumb/e/e9/Official_portrait_of_Barack_Obama.jpg/660px-Official_portrait_of_Barack_Obama.jpg\n",
            "Resolving upload.wikimedia.org (upload.wikimedia.org)... 208.80.154.240, 2620:0:861:ed1a::2:b\n",
            "Connecting to upload.wikimedia.org (upload.wikimedia.org)|208.80.154.240|:443... connected.\n",
            "HTTP request sent, awaiting response... 200 OK\n",
            "Length: 70131 (68K) [image/jpeg]\n",
            "Saving to: ‘known/obama.jpg’\n",
            "\n",
            "known/obama.jpg     100%[===================>]  68.49K   144KB/s    in 0.5s    \n",
            "\n",
            "2020-06-15 21:10:18 (144 KB/s) - ‘known/obama.jpg’ saved [70131/70131]\n",
            "\n"
          ],
          "name": "stdout"
        }
      ]
    },
    {
      "cell_type": "code",
      "metadata": {
        "id": "TZvijzVICOuH",
        "colab_type": "code",
        "colab": {
          "base_uri": "https://localhost:8080/",
          "height": 637
        },
        "outputId": "fb29f93a-6ef6-411d-8beb-a7e6cd7cc051"
      },
      "source": [
        "!mkdir unknown\n",
        "!wget https://upload.wikimedia.org/wikipedia/commons/0/04/Elon_Musk_and_Hans_Koenigsmann_at_the_SpaceX_CRS-8_post-launch_press_conference_%2826223624532%29_%28cropped%29.jpg -O unknown/1.jpg\n",
        "!wget https://cdn.britannica.com/s:300x300/47/188747-050-1D34E743/Bill-Gates-2011.jpg -O unknown/2.jpg\n",
        "!wget https://media.vanityfair.com/photos/5ec1656e5af441fe3976daf4/master/w_2560%2Cc_limit/barack-obama.jpg -O unknown/3.jpg"
      ],
      "execution_count": 3,
      "outputs": [
        {
          "output_type": "stream",
          "text": [
            "--2020-06-15 21:10:24--  https://upload.wikimedia.org/wikipedia/commons/0/04/Elon_Musk_and_Hans_Koenigsmann_at_the_SpaceX_CRS-8_post-launch_press_conference_%2826223624532%29_%28cropped%29.jpg\n",
            "Resolving upload.wikimedia.org (upload.wikimedia.org)... 103.102.166.240, 2001:df2:e500:ed1a::2:b\n",
            "Connecting to upload.wikimedia.org (upload.wikimedia.org)|103.102.166.240|:443... connected.\n",
            "HTTP request sent, awaiting response... 200 OK\n",
            "Length: 302944 (296K) [image/jpeg]\n",
            "Saving to: ‘unknown/1.jpg’\n",
            "\n",
            "\runknown/1.jpg         0%[                    ]       0  --.-KB/s               \runknown/1.jpg       100%[===================>] 295.84K  --.-KB/s    in 0.009s  \n",
            "\n",
            "2020-06-15 21:10:25 (31.3 MB/s) - ‘unknown/1.jpg’ saved [302944/302944]\n",
            "\n",
            "--2020-06-15 21:10:28--  https://cdn.britannica.com/s:300x300/47/188747-050-1D34E743/Bill-Gates-2011.jpg\n",
            "Resolving cdn.britannica.com (cdn.britannica.com)... 13.35.20.117, 13.35.20.99, 13.35.20.68, ...\n",
            "Connecting to cdn.britannica.com (cdn.britannica.com)|13.35.20.117|:443... connected.\n",
            "HTTP request sent, awaiting response... 200 OK\n",
            "Length: 7225 (7.1K) [image/jpeg]\n",
            "Saving to: ‘unknown/2.jpg’\n",
            "\n",
            "unknown/2.jpg       100%[===================>]   7.06K  --.-KB/s    in 0s      \n",
            "\n",
            "2020-06-15 21:10:29 (156 MB/s) - ‘unknown/2.jpg’ saved [7225/7225]\n",
            "\n",
            "--2020-06-15 21:10:32--  https://media.vanityfair.com/photos/5ec1656e5af441fe3976daf4/master/w_2560%2Cc_limit/barack-obama.jpg\n",
            "Resolving media.vanityfair.com (media.vanityfair.com)... 151.101.0.239, 151.101.64.239, 151.101.128.239, ...\n",
            "Connecting to media.vanityfair.com (media.vanityfair.com)|151.101.0.239|:443... connected.\n",
            "HTTP request sent, awaiting response... 200 OK\n",
            "Length: 191507 (187K) [image/jpeg]\n",
            "Saving to: ‘unknown/3.jpg’\n",
            "\n",
            "unknown/3.jpg       100%[===================>] 187.02K  --.-KB/s    in 0.008s  \n",
            "\n",
            "2020-06-15 21:10:33 (23.0 MB/s) - ‘unknown/3.jpg’ saved [191507/191507]\n",
            "\n"
          ],
          "name": "stdout"
        }
      ]
    },
    {
      "cell_type": "code",
      "metadata": {
        "id": "PTNcDMRfKnkB",
        "colab_type": "code",
        "colab": {}
      },
      "source": [
        "import face_recognition\n",
        "import cv2\n",
        "import os\n",
        "from google.colab.patches import cv2_imshow\n",
        "\n",
        "def read_img(path):\n",
        "  img=cv2.imread(path)\n",
        "  (h,w)=img.shape[:2]\n",
        "  width=500\n",
        "  ratio=width / float(w)\n",
        "  height= int(h*ratio)\n",
        "  return cv2.resize(img,(width,height))  "
      ],
      "execution_count": 0,
      "outputs": []
    },
    {
      "cell_type": "code",
      "metadata": {
        "id": "B5nIUl65_X7k",
        "colab_type": "code",
        "colab": {}
      },
      "source": [
        "known_encodings=[]\n",
        "known_names= []\n",
        "known_dir= 'known'"
      ],
      "execution_count": 0,
      "outputs": []
    },
    {
      "cell_type": "code",
      "metadata": {
        "id": "sLvq4qvS_V-b",
        "colab_type": "code",
        "outputId": "2258cb1b-a139-4d45-b61c-6d8deae4f63b",
        "colab": {
          "base_uri": "https://localhost:8080/",
          "height": 1000
        }
      },
      "source": [
        "for file in os.listdir (known_dir):\n",
        "  img=read_img(known_dir + '/' + file)\n",
        "  img_enc=face_recognition.face_encodings(img)[0]\n",
        "  known_encodings.append(img_enc)\n",
        "  known_names.append(file.split('.')[0])\n",
        "\n",
        "known_encodings  "
      ],
      "execution_count": 9,
      "outputs": [
        {
          "output_type": "execute_result",
          "data": {
            "text/plain": [
              "[array([-3.10284831e-02,  8.65360573e-02, -2.66347751e-02,  3.70550454e-02,\n",
              "        -1.51009798e-01,  3.21513508e-03, -5.18732890e-02, -1.08028024e-01,\n",
              "         1.51035830e-01, -6.56597987e-02,  1.68050840e-01, -7.45665953e-02,\n",
              "        -2.63727397e-01, -3.05890441e-02, -7.52096698e-02,  1.13311253e-01,\n",
              "        -1.29804417e-01, -5.72623610e-02, -7.67286718e-02, -1.37728959e-01,\n",
              "         2.78094858e-02,  3.23864296e-02,  4.18925062e-02, -3.90174091e-02,\n",
              "        -1.61695212e-01, -2.38617137e-01, -9.68108922e-02, -1.40038967e-01,\n",
              "         1.37467250e-01, -8.41246545e-02, -3.29998061e-02,  9.71345901e-02,\n",
              "        -1.88142717e-01, -9.59653109e-02,  5.41774519e-02,  1.75129145e-01,\n",
              "        -4.14259657e-02,  3.04440632e-02,  2.39732727e-01, -3.29607204e-02,\n",
              "        -1.75457627e-01,  4.39244397e-02,  1.17131516e-01,  2.43179083e-01,\n",
              "         1.89187676e-01,  7.01977685e-03, -1.43011808e-02,  8.84128734e-03,\n",
              "         8.61663371e-02, -2.08271489e-01,  8.88156146e-02,  1.85663134e-01,\n",
              "         2.13376626e-01,  9.20096040e-02,  9.31534097e-02, -1.67480707e-01,\n",
              "        -4.14546812e-03,  2.00497687e-01, -1.45067587e-01,  6.72624335e-02,\n",
              "         1.46321595e-01, -8.30194801e-02,  1.17399152e-02,  3.51696908e-02,\n",
              "         1.74362540e-01,  4.77202125e-02, -5.93254417e-02, -1.26270339e-01,\n",
              "         2.15872407e-01, -1.71681523e-01,  6.85183983e-03,  1.12332791e-01,\n",
              "        -1.02851167e-01, -1.01138696e-01, -2.94155896e-01,  1.14710201e-02,\n",
              "         4.00695860e-01,  1.22245178e-01, -6.77502900e-02,  3.47419716e-02,\n",
              "        -8.93055499e-02, -7.84130767e-02, -2.36759558e-02, -3.02089341e-02,\n",
              "        -5.74366264e-02, -4.31597419e-02, -1.11274645e-01,  6.34599701e-02,\n",
              "         1.78269744e-01, -6.90512434e-02,  6.36411905e-02,  1.67711303e-01,\n",
              "         4.38769534e-03,  1.00247711e-02, -3.21117416e-02,  2.68340670e-02,\n",
              "        -1.62624761e-01, -8.62863436e-02, -8.38906765e-02, -4.63961139e-02,\n",
              "         4.71498910e-03, -1.95549041e-01,  2.85134353e-02,  1.39079005e-01,\n",
              "        -2.38918751e-01,  1.15213685e-01, -4.37406525e-02, -3.09609696e-02,\n",
              "        -4.39237133e-02,  1.96242835e-02, -3.27353217e-02,  5.35495803e-02,\n",
              "         2.52622187e-01, -2.53566861e-01,  2.21470386e-01,  1.55090019e-01,\n",
              "        -6.08278662e-02,  8.13151225e-02,  7.33130723e-02,  6.13923557e-02,\n",
              "        -6.44133147e-03, -7.05892593e-02, -2.00152829e-01, -1.51131615e-01,\n",
              "        -7.71578476e-02, -9.51645523e-02,  3.47069465e-04,  9.07024369e-02]),\n",
              " array([-9.14762989e-02,  1.09598584e-01,  7.62500539e-02, -1.63997263e-02,\n",
              "        -1.46133155e-02,  2.52021588e-02, -5.61677404e-02, -6.52407408e-02,\n",
              "         1.85232744e-01, -1.42330423e-01,  2.75739342e-01,  6.33889511e-02,\n",
              "        -2.37668335e-01, -1.58232123e-01,  1.11652248e-01,  1.21050738e-01,\n",
              "        -1.96671113e-01, -7.75189474e-02, -1.16590455e-01, -7.35283792e-02,\n",
              "        -1.98505819e-04,  1.57515779e-02,  7.73325190e-02,  4.73455712e-03,\n",
              "        -7.45557621e-02, -4.20692950e-01, -4.45611663e-02, -1.26670539e-01,\n",
              "         2.36128028e-02, -1.99640274e-01, -1.01174049e-01, -3.08928750e-02,\n",
              "        -1.67081773e-01, -7.83623159e-02, -5.00565432e-02, -1.65175945e-02,\n",
              "        -3.69905643e-02, -3.73690203e-02,  1.97920874e-01,  1.97153334e-02,\n",
              "        -1.46945179e-01,  2.62519829e-02, -1.81691721e-03,  1.85900927e-01,\n",
              "         2.45711550e-01,  8.55562910e-02, -7.35054538e-03, -5.52344024e-02,\n",
              "         1.27836823e-01, -2.39103645e-01,  6.50126934e-02,  1.65715694e-01,\n",
              "         9.79403481e-02,  3.08354087e-02,  9.10081789e-02, -2.01407611e-01,\n",
              "        -4.31374460e-02,  5.37924357e-02, -1.29035577e-01,  3.18444371e-02,\n",
              "         4.02668826e-02, -5.93845546e-02, -1.17898500e-02,  5.60728163e-02,\n",
              "         2.08311945e-01,  1.03131942e-01, -9.33258086e-02, -7.44425356e-02,\n",
              "         1.02095097e-01, -8.36735815e-02,  1.70811126e-03,  1.68146398e-02,\n",
              "        -1.71874732e-01, -2.20906124e-01, -2.43102580e-01,  6.03272319e-02,\n",
              "         2.95296371e-01,  1.36694357e-01, -2.01252937e-01, -3.82827371e-02,\n",
              "        -1.60748899e-01,  2.25620344e-03,  8.73004496e-02,  5.41396849e-02,\n",
              "        -5.89590743e-02, -1.00374408e-01, -8.38133767e-02,  2.78660804e-02,\n",
              "         1.17942967e-01,  4.00033481e-02, -4.60313000e-02,  2.04035565e-01,\n",
              "        -5.78999519e-03,  4.59357426e-02,  2.34406348e-02,  1.17581747e-02,\n",
              "        -1.07624523e-01, -3.42446715e-02, -1.46798253e-01, -3.22970301e-02,\n",
              "        -2.41511827e-03, -6.00097291e-02, -2.01202724e-02,  1.17889963e-01,\n",
              "        -1.95197508e-01,  1.06930673e-01,  1.08079426e-02, -2.07994860e-02,\n",
              "         2.78039873e-02,  3.69821265e-02, -7.38086477e-02, -5.45161180e-02,\n",
              "         7.72186890e-02, -2.30354100e-01,  2.35201955e-01,  2.44356260e-01,\n",
              "         2.99955979e-02,  1.77530438e-01,  3.82585116e-02,  7.37469122e-02,\n",
              "        -3.00944410e-02, -5.28105721e-03, -1.63105592e-01, -5.98425530e-02,\n",
              "         2.23521236e-02,  4.95766960e-02,  5.70864528e-02,  9.67549160e-04]),\n",
              " array([-5.26839346e-02,  1.12691842e-01,  5.84455058e-02,  2.15288997e-03,\n",
              "        -1.44471943e-01,  1.41128013e-02, -2.06315890e-02, -1.96087390e-01,\n",
              "         1.61889181e-01, -6.33114427e-02,  2.57895291e-01, -1.04259789e-01,\n",
              "        -2.38341078e-01,  7.72300921e-03, -1.26153566e-02,  9.39759612e-02,\n",
              "        -1.24994002e-01, -1.12270743e-01, -9.67788603e-03, -1.12428069e-01,\n",
              "         1.22411266e-01,  7.63971582e-02,  2.84544043e-02,  1.17821321e-02,\n",
              "        -1.04169928e-01, -2.77031124e-01, -9.72692370e-02, -1.02087319e-01,\n",
              "         1.37427285e-01, -7.38945603e-02,  1.58686060e-02,  4.84132841e-02,\n",
              "        -1.77373320e-01, -8.40045735e-02,  4.46875803e-02,  4.93087433e-02,\n",
              "        -7.48564526e-02, -7.45876133e-02,  1.99607238e-01, -6.38755262e-02,\n",
              "        -1.73491150e-01, -4.70559746e-02,  3.05280276e-02,  2.13392273e-01,\n",
              "         1.00502007e-01,  3.27574797e-02,  1.68488808e-02, -9.90123749e-02,\n",
              "         5.26691079e-02, -2.21497282e-01,  8.51516277e-02,  1.56997472e-01,\n",
              "         5.95719665e-02,  1.91556029e-02,  1.07312627e-01, -1.77964151e-01,\n",
              "        -4.85145487e-02,  2.05216378e-01, -1.28650263e-01,  1.00759022e-01,\n",
              "         8.63371640e-02, -6.14517555e-02, -1.76930986e-03, -7.19768256e-02,\n",
              "         1.72531471e-01,  6.57617003e-02, -2.64497735e-02, -1.54343590e-01,\n",
              "         1.64719835e-01, -8.82544667e-02, -1.23632655e-01,  1.51810408e-01,\n",
              "        -1.22541569e-01, -1.62471697e-01, -2.68716604e-01, -2.63811313e-02,\n",
              "         5.10005653e-01,  3.36359739e-02, -1.73071966e-01,  2.27133613e-02,\n",
              "        -4.60432619e-02, -2.55350024e-04,  1.44558281e-01,  2.33729817e-02,\n",
              "         2.13627126e-02, -6.77855015e-02, -1.46495685e-01, -1.24919228e-02,\n",
              "         2.05611572e-01, -9.06525478e-02, -5.54557219e-02,  2.08001539e-01,\n",
              "        -2.99425647e-02,  2.79891919e-02,  3.08904648e-02,  8.09067190e-02,\n",
              "        -7.51386583e-02, -1.14353653e-02, -1.18258052e-01, -1.22576557e-01,\n",
              "         4.91080880e-02, -2.42460314e-02, -5.06301932e-02,  1.69310629e-01,\n",
              "        -2.20040753e-01,  1.27436608e-01,  1.25182606e-02, -7.17594102e-03,\n",
              "         9.22578853e-04, -5.19366935e-02, -3.60362902e-02,  1.85076371e-02,\n",
              "         2.00781003e-01, -3.01004767e-01,  1.45458952e-01,  1.55155972e-01,\n",
              "        -4.80413027e-02,  1.44629866e-01, -1.33629590e-02,  3.67095992e-02,\n",
              "         1.98999438e-02, -8.40188414e-02, -2.48334199e-01, -9.51224267e-02,\n",
              "         2.28015184e-02, -8.14627111e-03, -7.28991404e-02,  3.07141058e-02])]"
            ]
          },
          "metadata": {
            "tags": []
          },
          "execution_count": 9
        }
      ]
    },
    {
      "cell_type": "code",
      "metadata": {
        "id": "J2CJ_E2lDFef",
        "colab_type": "code",
        "colab": {}
      },
      "source": [
        "print(barack-obama.jpg)"
      ],
      "execution_count": 0,
      "outputs": []
    },
    {
      "cell_type": "code",
      "metadata": {
        "id": "IXMOgBenoC_J",
        "colab_type": "code",
        "colab": {}
      },
      "source": [
        ""
      ],
      "execution_count": 0,
      "outputs": []
    }
  ]
}